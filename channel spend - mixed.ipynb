{
 "cells": [
  {
   "cell_type": "code",
   "execution_count": 1,
   "metadata": {},
   "outputs": [],
   "source": [
    "import pandas as pd"
   ]
  },
  {
   "cell_type": "markdown",
   "metadata": {},
   "source": [
    "## Data"
   ]
  },
  {
   "cell_type": "code",
   "execution_count": 2,
   "metadata": {},
   "outputs": [
    {
     "data": {
      "text/html": [
       "<div>\n",
       "<style scoped>\n",
       "    .dataframe tbody tr th:only-of-type {\n",
       "        vertical-align: middle;\n",
       "    }\n",
       "\n",
       "    .dataframe tbody tr th {\n",
       "        vertical-align: top;\n",
       "    }\n",
       "\n",
       "    .dataframe thead th {\n",
       "        text-align: right;\n",
       "    }\n",
       "</style>\n",
       "<table border=\"1\" class=\"dataframe\">\n",
       "  <thead>\n",
       "    <tr style=\"text-align: right;\">\n",
       "      <th></th>\n",
       "      <th>attribution_technical</th>\n",
       "      <th>attribution_survey</th>\n",
       "      <th>account_creation_date</th>\n",
       "    </tr>\n",
       "  </thead>\n",
       "  <tbody>\n",
       "    <tr>\n",
       "      <th>0</th>\n",
       "      <td>facebook</td>\n",
       "      <td>facebook</td>\n",
       "      <td>2020-01-24 21:44:16</td>\n",
       "    </tr>\n",
       "    <tr>\n",
       "      <th>1</th>\n",
       "      <td>facebook</td>\n",
       "      <td>facebook</td>\n",
       "      <td>2020-03-01 15:44:35</td>\n",
       "    </tr>\n",
       "    <tr>\n",
       "      <th>2</th>\n",
       "      <td>organic</td>\n",
       "      <td>facebook</td>\n",
       "      <td>2019-12-07 16:37:06</td>\n",
       "    </tr>\n",
       "    <tr>\n",
       "      <th>3</th>\n",
       "      <td>search</td>\n",
       "      <td>tv</td>\n",
       "      <td>2020-01-27 16:09:32</td>\n",
       "    </tr>\n",
       "    <tr>\n",
       "      <th>4</th>\n",
       "      <td>discovery</td>\n",
       "      <td>youtube</td>\n",
       "      <td>2019-10-05 12:57:07</td>\n",
       "    </tr>\n",
       "    <tr>\n",
       "      <th>...</th>\n",
       "      <td>...</td>\n",
       "      <td>...</td>\n",
       "      <td>...</td>\n",
       "    </tr>\n",
       "    <tr>\n",
       "      <th>227623</th>\n",
       "      <td>facebook</td>\n",
       "      <td>facebook_organic</td>\n",
       "      <td>2019-11-17 14:12:33</td>\n",
       "    </tr>\n",
       "    <tr>\n",
       "      <th>227624</th>\n",
       "      <td>google_organic</td>\n",
       "      <td>referral</td>\n",
       "      <td>2019-12-06 18:02:13</td>\n",
       "    </tr>\n",
       "    <tr>\n",
       "      <th>227625</th>\n",
       "      <td>facebook</td>\n",
       "      <td>facebook</td>\n",
       "      <td>2019-12-21 19:40:44</td>\n",
       "    </tr>\n",
       "    <tr>\n",
       "      <th>227626</th>\n",
       "      <td>facebook</td>\n",
       "      <td>facebook</td>\n",
       "      <td>2020-01-17 23:58:51</td>\n",
       "    </tr>\n",
       "    <tr>\n",
       "      <th>227627</th>\n",
       "      <td>organic</td>\n",
       "      <td>tv</td>\n",
       "      <td>2019-11-26 19:09:09</td>\n",
       "    </tr>\n",
       "  </tbody>\n",
       "</table>\n",
       "<p>227628 rows × 3 columns</p>\n",
       "</div>"
      ],
      "text/plain": [
       "       attribution_technical attribution_survey account_creation_date\n",
       "0                   facebook           facebook   2020-01-24 21:44:16\n",
       "1                   facebook           facebook   2020-03-01 15:44:35\n",
       "2                    organic           facebook   2019-12-07 16:37:06\n",
       "3                     search                 tv   2020-01-27 16:09:32\n",
       "4                  discovery            youtube   2019-10-05 12:57:07\n",
       "...                      ...                ...                   ...\n",
       "227623              facebook   facebook_organic   2019-11-17 14:12:33\n",
       "227624        google_organic           referral   2019-12-06 18:02:13\n",
       "227625              facebook           facebook   2019-12-21 19:40:44\n",
       "227626              facebook           facebook   2020-01-17 23:58:51\n",
       "227627               organic                 tv   2019-11-26 19:09:09\n",
       "\n",
       "[227628 rows x 3 columns]"
      ]
     },
     "execution_count": 2,
     "metadata": {},
     "output_type": "execute_result"
    }
   ],
   "source": [
    "data = pd.read_excel('channel spend.xlsx')\n",
    "data"
   ]
  },
  {
   "cell_type": "code",
   "execution_count": 3,
   "metadata": {},
   "outputs": [
    {
     "name": "stdout",
     "output_type": "stream",
     "text": [
      "<class 'pandas.core.frame.DataFrame'>\n",
      "RangeIndex: 227628 entries, 0 to 227627\n",
      "Data columns (total 3 columns):\n",
      " #   Column                 Non-Null Count   Dtype         \n",
      "---  ------                 --------------   -----         \n",
      " 0   attribution_technical  227628 non-null  object        \n",
      " 1   attribution_survey     224984 non-null  object        \n",
      " 2   account_creation_date  227628 non-null  datetime64[ns]\n",
      "dtypes: datetime64[ns](1), object(2)\n",
      "memory usage: 5.2+ MB\n"
     ]
    }
   ],
   "source": [
    "data.info()"
   ]
  },
  {
   "cell_type": "code",
   "execution_count": 4,
   "metadata": {},
   "outputs": [
    {
     "data": {
      "text/html": [
       "<div>\n",
       "<style scoped>\n",
       "    .dataframe tbody tr th:only-of-type {\n",
       "        vertical-align: middle;\n",
       "    }\n",
       "\n",
       "    .dataframe tbody tr th {\n",
       "        vertical-align: top;\n",
       "    }\n",
       "\n",
       "    .dataframe thead th {\n",
       "        text-align: right;\n",
       "    }\n",
       "</style>\n",
       "<table border=\"1\" class=\"dataframe\">\n",
       "  <thead>\n",
       "    <tr style=\"text-align: right;\">\n",
       "      <th></th>\n",
       "      <th>bing</th>\n",
       "      <th>display</th>\n",
       "      <th>facebook</th>\n",
       "      <th>search</th>\n",
       "      <th>youtube</th>\n",
       "    </tr>\n",
       "  </thead>\n",
       "  <tbody>\n",
       "    <tr>\n",
       "      <th>201907</th>\n",
       "      <td>400</td>\n",
       "      <td>12</td>\n",
       "      <td>9000</td>\n",
       "      <td>13000</td>\n",
       "      <td>90</td>\n",
       "    </tr>\n",
       "    <tr>\n",
       "      <th>201908</th>\n",
       "      <td>900</td>\n",
       "      <td>20</td>\n",
       "      <td>13000</td>\n",
       "      <td>18500</td>\n",
       "      <td>180</td>\n",
       "    </tr>\n",
       "    <tr>\n",
       "      <th>201909</th>\n",
       "      <td>1000</td>\n",
       "      <td>13</td>\n",
       "      <td>10500</td>\n",
       "      <td>19000</td>\n",
       "      <td>100</td>\n",
       "    </tr>\n",
       "    <tr>\n",
       "      <th>201910</th>\n",
       "      <td>1100</td>\n",
       "      <td>19</td>\n",
       "      <td>17000</td>\n",
       "      <td>24000</td>\n",
       "      <td>130</td>\n",
       "    </tr>\n",
       "    <tr>\n",
       "      <th>201911</th>\n",
       "      <td>1300</td>\n",
       "      <td>29</td>\n",
       "      <td>23000</td>\n",
       "      <td>25000</td>\n",
       "      <td>550</td>\n",
       "    </tr>\n",
       "    <tr>\n",
       "      <th>201912</th>\n",
       "      <td>300</td>\n",
       "      <td>31</td>\n",
       "      <td>16000</td>\n",
       "      <td>38000</td>\n",
       "      <td>900</td>\n",
       "    </tr>\n",
       "    <tr>\n",
       "      <th>202001</th>\n",
       "      <td>2100</td>\n",
       "      <td>148</td>\n",
       "      <td>11000</td>\n",
       "      <td>41000</td>\n",
       "      <td>4360</td>\n",
       "    </tr>\n",
       "    <tr>\n",
       "      <th>202002</th>\n",
       "      <td>3700</td>\n",
       "      <td>94</td>\n",
       "      <td>14000</td>\n",
       "      <td>44000</td>\n",
       "      <td>2420</td>\n",
       "    </tr>\n",
       "  </tbody>\n",
       "</table>\n",
       "</div>"
      ],
      "text/plain": [
       "        bing  display  facebook  search  youtube\n",
       "201907   400       12      9000   13000       90\n",
       "201908   900       20     13000   18500      180\n",
       "201909  1000       13     10500   19000      100\n",
       "201910  1100       19     17000   24000      130\n",
       "201911  1300       29     23000   25000      550\n",
       "201912   300       31     16000   38000      900\n",
       "202001  2100      148     11000   41000     4360\n",
       "202002  3700       94     14000   44000     2420"
      ]
     },
     "execution_count": 4,
     "metadata": {},
     "output_type": "execute_result"
    }
   ],
   "source": [
    "channel_spend = pd.read_csv('channel spend.csv',index_col=0)\n",
    "channel_spend"
   ]
  },
  {
   "cell_type": "markdown",
   "metadata": {},
   "source": [
    "## Reserve only date and month"
   ]
  },
  {
   "cell_type": "code",
   "execution_count": 5,
   "metadata": {},
   "outputs": [
    {
     "data": {
      "text/plain": [
       "0         202001\n",
       "1         202003\n",
       "2         201912\n",
       "3         202001\n",
       "4         201910\n",
       "           ...  \n",
       "227623    201911\n",
       "227624    201912\n",
       "227625    201912\n",
       "227626    202001\n",
       "227627    201911\n",
       "Name: account_creation_date, Length: 227628, dtype: int64"
      ]
     },
     "execution_count": 5,
     "metadata": {},
     "output_type": "execute_result"
    }
   ],
   "source": [
    "data['account_creation_date'] = data['account_creation_date'].dt.date\n",
    "data['account_creation_date'] = (pd.DatetimeIndex(data['account_creation_date']).year)*100 + (pd.DatetimeIndex(data['account_creation_date']).month)\n",
    "data['account_creation_date']"
   ]
  },
  {
   "cell_type": "code",
   "execution_count": 6,
   "metadata": {},
   "outputs": [
    {
     "data": {
      "text/html": [
       "<div>\n",
       "<style scoped>\n",
       "    .dataframe tbody tr th:only-of-type {\n",
       "        vertical-align: middle;\n",
       "    }\n",
       "\n",
       "    .dataframe tbody tr th {\n",
       "        vertical-align: top;\n",
       "    }\n",
       "\n",
       "    .dataframe thead th {\n",
       "        text-align: right;\n",
       "    }\n",
       "</style>\n",
       "<table border=\"1\" class=\"dataframe\">\n",
       "  <thead>\n",
       "    <tr style=\"text-align: right;\">\n",
       "      <th></th>\n",
       "      <th>attribution_technical</th>\n",
       "      <th>attribution_survey</th>\n",
       "      <th>account_creation_date</th>\n",
       "    </tr>\n",
       "  </thead>\n",
       "  <tbody>\n",
       "    <tr>\n",
       "      <th>0</th>\n",
       "      <td>facebook</td>\n",
       "      <td>facebook</td>\n",
       "      <td>202001</td>\n",
       "    </tr>\n",
       "    <tr>\n",
       "      <th>1</th>\n",
       "      <td>facebook</td>\n",
       "      <td>facebook</td>\n",
       "      <td>202003</td>\n",
       "    </tr>\n",
       "    <tr>\n",
       "      <th>2</th>\n",
       "      <td>organic</td>\n",
       "      <td>facebook</td>\n",
       "      <td>201912</td>\n",
       "    </tr>\n",
       "    <tr>\n",
       "      <th>3</th>\n",
       "      <td>search</td>\n",
       "      <td>tv</td>\n",
       "      <td>202001</td>\n",
       "    </tr>\n",
       "    <tr>\n",
       "      <th>4</th>\n",
       "      <td>discovery</td>\n",
       "      <td>youtube</td>\n",
       "      <td>201910</td>\n",
       "    </tr>\n",
       "    <tr>\n",
       "      <th>...</th>\n",
       "      <td>...</td>\n",
       "      <td>...</td>\n",
       "      <td>...</td>\n",
       "    </tr>\n",
       "    <tr>\n",
       "      <th>227623</th>\n",
       "      <td>facebook</td>\n",
       "      <td>facebook_organic</td>\n",
       "      <td>201911</td>\n",
       "    </tr>\n",
       "    <tr>\n",
       "      <th>227624</th>\n",
       "      <td>google_organic</td>\n",
       "      <td>referral</td>\n",
       "      <td>201912</td>\n",
       "    </tr>\n",
       "    <tr>\n",
       "      <th>227625</th>\n",
       "      <td>facebook</td>\n",
       "      <td>facebook</td>\n",
       "      <td>201912</td>\n",
       "    </tr>\n",
       "    <tr>\n",
       "      <th>227626</th>\n",
       "      <td>facebook</td>\n",
       "      <td>facebook</td>\n",
       "      <td>202001</td>\n",
       "    </tr>\n",
       "    <tr>\n",
       "      <th>227627</th>\n",
       "      <td>organic</td>\n",
       "      <td>tv</td>\n",
       "      <td>201911</td>\n",
       "    </tr>\n",
       "  </tbody>\n",
       "</table>\n",
       "<p>227628 rows × 3 columns</p>\n",
       "</div>"
      ],
      "text/plain": [
       "       attribution_technical attribution_survey  account_creation_date\n",
       "0                   facebook           facebook                 202001\n",
       "1                   facebook           facebook                 202003\n",
       "2                    organic           facebook                 201912\n",
       "3                     search                 tv                 202001\n",
       "4                  discovery            youtube                 201910\n",
       "...                      ...                ...                    ...\n",
       "227623              facebook   facebook_organic                 201911\n",
       "227624        google_organic           referral                 201912\n",
       "227625              facebook           facebook                 201912\n",
       "227626              facebook           facebook                 202001\n",
       "227627               organic                 tv                 201911\n",
       "\n",
       "[227628 rows x 3 columns]"
      ]
     },
     "execution_count": 6,
     "metadata": {},
     "output_type": "execute_result"
    }
   ],
   "source": [
    "data"
   ]
  },
  {
   "cell_type": "markdown",
   "metadata": {},
   "source": [
    "## Channel spend - attribution_survey"
   ]
  },
  {
   "cell_type": "code",
   "execution_count": 7,
   "metadata": {},
   "outputs": [],
   "source": [
    "channel_list = ['bing', 'display', 'facebook', 'search', 'youtube']\n",
    "time_list = [201907,201908,201909,201910,201911,201912,202001,202002]"
   ]
  },
  {
   "cell_type": "code",
   "execution_count": 8,
   "metadata": {},
   "outputs": [],
   "source": [
    "# Create empty dataframe\n",
    "result = pd.DataFrame(columns=['bing', 'display', 'facebook', 'search', 'youtube'],index=time_list)"
   ]
  },
  {
   "cell_type": "code",
   "execution_count": 9,
   "metadata": {},
   "outputs": [
    {
     "data": {
      "text/html": [
       "<div>\n",
       "<style scoped>\n",
       "    .dataframe tbody tr th:only-of-type {\n",
       "        vertical-align: middle;\n",
       "    }\n",
       "\n",
       "    .dataframe tbody tr th {\n",
       "        vertical-align: top;\n",
       "    }\n",
       "\n",
       "    .dataframe thead th {\n",
       "        text-align: right;\n",
       "    }\n",
       "</style>\n",
       "<table border=\"1\" class=\"dataframe\">\n",
       "  <thead>\n",
       "    <tr style=\"text-align: right;\">\n",
       "      <th></th>\n",
       "      <th>bing</th>\n",
       "      <th>display</th>\n",
       "      <th>facebook</th>\n",
       "      <th>search</th>\n",
       "      <th>youtube</th>\n",
       "    </tr>\n",
       "  </thead>\n",
       "  <tbody>\n",
       "    <tr>\n",
       "      <th>201907</th>\n",
       "      <td>98.4</td>\n",
       "      <td>34.4</td>\n",
       "      <td>16039.6</td>\n",
       "      <td>1421.2</td>\n",
       "      <td>73.4</td>\n",
       "    </tr>\n",
       "    <tr>\n",
       "      <th>201908</th>\n",
       "      <td>57.4</td>\n",
       "      <td>53.6</td>\n",
       "      <td>16391.2</td>\n",
       "      <td>2033.6</td>\n",
       "      <td>247.2</td>\n",
       "    </tr>\n",
       "    <tr>\n",
       "      <th>201909</th>\n",
       "      <td>66.8</td>\n",
       "      <td>9.6</td>\n",
       "      <td>12269.4</td>\n",
       "      <td>1948.2</td>\n",
       "      <td>197.0</td>\n",
       "    </tr>\n",
       "    <tr>\n",
       "      <th>201910</th>\n",
       "      <td>68.8</td>\n",
       "      <td>40.8</td>\n",
       "      <td>14434.8</td>\n",
       "      <td>2301.6</td>\n",
       "      <td>260.0</td>\n",
       "    </tr>\n",
       "    <tr>\n",
       "      <th>201911</th>\n",
       "      <td>77.8</td>\n",
       "      <td>70.4</td>\n",
       "      <td>18462.2</td>\n",
       "      <td>2448.0</td>\n",
       "      <td>290.6</td>\n",
       "    </tr>\n",
       "    <tr>\n",
       "      <th>201912</th>\n",
       "      <td>24.4</td>\n",
       "      <td>89.2</td>\n",
       "      <td>14341.0</td>\n",
       "      <td>3636.0</td>\n",
       "      <td>233.4</td>\n",
       "    </tr>\n",
       "    <tr>\n",
       "      <th>202001</th>\n",
       "      <td>144.0</td>\n",
       "      <td>422.0</td>\n",
       "      <td>10572.8</td>\n",
       "      <td>4069.4</td>\n",
       "      <td>736.8</td>\n",
       "    </tr>\n",
       "    <tr>\n",
       "      <th>202002</th>\n",
       "      <td>247.0</td>\n",
       "      <td>267.0</td>\n",
       "      <td>12872.4</td>\n",
       "      <td>4422.4</td>\n",
       "      <td>519.2</td>\n",
       "    </tr>\n",
       "  </tbody>\n",
       "</table>\n",
       "</div>"
      ],
      "text/plain": [
       "         bing  display  facebook  search  youtube\n",
       "201907   98.4     34.4   16039.6  1421.2     73.4\n",
       "201908   57.4     53.6   16391.2  2033.6    247.2\n",
       "201909   66.8      9.6   12269.4  1948.2    197.0\n",
       "201910   68.8     40.8   14434.8  2301.6    260.0\n",
       "201911   77.8     70.4   18462.2  2448.0    290.6\n",
       "201912   24.4     89.2   14341.0  3636.0    233.4\n",
       "202001  144.0    422.0   10572.8  4069.4    736.8\n",
       "202002  247.0    267.0   12872.4  4422.4    519.2"
      ]
     },
     "execution_count": 9,
     "metadata": {},
     "output_type": "execute_result"
    }
   ],
   "source": [
    "for c in channel_list:\n",
    "    count_list = []\n",
    "    for t in time_list:\n",
    "        count = 0\n",
    "        for i in range(len(data)):\n",
    "            if data.iloc[i]['account_creation_date'] == t:\n",
    "                a = data.iloc[i]['attribution_survey']\n",
    "                b = data.iloc[i]['attribution_technical']\n",
    "                if (a in channel_list) and (b in channel_list):\n",
    "                    if a==c:\n",
    "                        count += 0.4\n",
    "                    if b==c:\n",
    "                        count += 0.6\n",
    "                    continue\n",
    "                elif a==c and (b not in channel_list):\n",
    "                    count += 1\n",
    "                    continue\n",
    "                elif b==c and (a not in channel_list):\n",
    "                    count += 1\n",
    "                    continue\n",
    "                    \n",
    "        count_list.append(count)\n",
    "    result[c] = count_list\n",
    "\n",
    "result"
   ]
  },
  {
   "cell_type": "code",
   "execution_count": 10,
   "metadata": {},
   "outputs": [
    {
     "data": {
      "text/plain": [
       "[10800, 366, 113500, 222500, 8730]"
      ]
     },
     "execution_count": 10,
     "metadata": {},
     "output_type": "execute_result"
    }
   ],
   "source": [
    "spend_list = []\n",
    "for c in channel_list:\n",
    "    spend_list.append(channel_spend[c].sum())\n",
    "\n",
    "spend_list"
   ]
  },
  {
   "cell_type": "code",
   "execution_count": 11,
   "metadata": {},
   "outputs": [
    {
     "data": {
      "text/plain": [
       "[784.5999999999992,\n",
       " 987.000000000002,\n",
       " 115383.39999999845,\n",
       " 22280.399999999692,\n",
       " 2557.5999999999995]"
      ]
     },
     "execution_count": 11,
     "metadata": {},
     "output_type": "execute_result"
    }
   ],
   "source": [
    "convert_list = []\n",
    "for c in result:\n",
    "    convert_list.append(result[c].sum())\n",
    "\n",
    "convert_list"
   ]
  },
  {
   "cell_type": "markdown",
   "metadata": {},
   "source": [
    "### Average CAC"
   ]
  },
  {
   "cell_type": "code",
   "execution_count": 12,
   "metadata": {},
   "outputs": [
    {
     "data": {
      "text/plain": [
       "[13.76, 0.37, 0.98, 9.99, 3.41]"
      ]
     },
     "execution_count": 12,
     "metadata": {},
     "output_type": "execute_result"
    }
   ],
   "source": [
    "avg_cac_list = []\n",
    "for i in range(0,5):\n",
    "    if convert_list[i] == 0:\n",
    "        avg_cac_list.append(0)\n",
    "    else:\n",
    "        avg_cac = round(spend_list[i]/convert_list[i],2)\n",
    "        avg_cac_list.append(avg_cac)\n",
    "\n",
    "avg_cac_list"
   ]
  },
  {
   "cell_type": "markdown",
   "metadata": {},
   "source": [
    "### Marginal CAC"
   ]
  },
  {
   "cell_type": "code",
   "execution_count": 13,
   "metadata": {},
   "outputs": [],
   "source": [
    "# Create empty dataframe\n",
    "marg_cac = pd.DataFrame(columns=['bing', 'display', 'facebook', 'search', 'youtube'],index=time_list)"
   ]
  },
  {
   "cell_type": "code",
   "execution_count": 14,
   "metadata": {
    "scrolled": true
   },
   "outputs": [
    {
     "data": {
      "text/html": [
       "<div>\n",
       "<style scoped>\n",
       "    .dataframe tbody tr th:only-of-type {\n",
       "        vertical-align: middle;\n",
       "    }\n",
       "\n",
       "    .dataframe tbody tr th {\n",
       "        vertical-align: top;\n",
       "    }\n",
       "\n",
       "    .dataframe thead th {\n",
       "        text-align: right;\n",
       "    }\n",
       "</style>\n",
       "<table border=\"1\" class=\"dataframe\">\n",
       "  <thead>\n",
       "    <tr style=\"text-align: right;\">\n",
       "      <th></th>\n",
       "      <th>bing</th>\n",
       "      <th>display</th>\n",
       "      <th>facebook</th>\n",
       "      <th>search</th>\n",
       "      <th>youtube</th>\n",
       "    </tr>\n",
       "  </thead>\n",
       "  <tbody>\n",
       "    <tr>\n",
       "      <th>201907</th>\n",
       "      <td>4.07</td>\n",
       "      <td>0.35</td>\n",
       "      <td>0.56</td>\n",
       "      <td>9.15</td>\n",
       "      <td>1.23</td>\n",
       "    </tr>\n",
       "    <tr>\n",
       "      <th>201908</th>\n",
       "      <td>15.68</td>\n",
       "      <td>0.37</td>\n",
       "      <td>0.79</td>\n",
       "      <td>9.10</td>\n",
       "      <td>0.73</td>\n",
       "    </tr>\n",
       "    <tr>\n",
       "      <th>201909</th>\n",
       "      <td>14.97</td>\n",
       "      <td>1.35</td>\n",
       "      <td>0.86</td>\n",
       "      <td>9.75</td>\n",
       "      <td>0.51</td>\n",
       "    </tr>\n",
       "    <tr>\n",
       "      <th>201910</th>\n",
       "      <td>15.99</td>\n",
       "      <td>0.47</td>\n",
       "      <td>1.18</td>\n",
       "      <td>10.43</td>\n",
       "      <td>0.50</td>\n",
       "    </tr>\n",
       "    <tr>\n",
       "      <th>201911</th>\n",
       "      <td>16.71</td>\n",
       "      <td>0.41</td>\n",
       "      <td>1.25</td>\n",
       "      <td>10.21</td>\n",
       "      <td>1.89</td>\n",
       "    </tr>\n",
       "    <tr>\n",
       "      <th>201912</th>\n",
       "      <td>12.30</td>\n",
       "      <td>0.35</td>\n",
       "      <td>1.12</td>\n",
       "      <td>10.45</td>\n",
       "      <td>3.86</td>\n",
       "    </tr>\n",
       "    <tr>\n",
       "      <th>202001</th>\n",
       "      <td>14.58</td>\n",
       "      <td>0.35</td>\n",
       "      <td>1.04</td>\n",
       "      <td>10.08</td>\n",
       "      <td>5.92</td>\n",
       "    </tr>\n",
       "    <tr>\n",
       "      <th>202002</th>\n",
       "      <td>14.98</td>\n",
       "      <td>0.35</td>\n",
       "      <td>1.09</td>\n",
       "      <td>9.95</td>\n",
       "      <td>4.66</td>\n",
       "    </tr>\n",
       "  </tbody>\n",
       "</table>\n",
       "</div>"
      ],
      "text/plain": [
       "         bing  display  facebook  search  youtube\n",
       "201907   4.07     0.35      0.56    9.15     1.23\n",
       "201908  15.68     0.37      0.79    9.10     0.73\n",
       "201909  14.97     1.35      0.86    9.75     0.51\n",
       "201910  15.99     0.47      1.18   10.43     0.50\n",
       "201911  16.71     0.41      1.25   10.21     1.89\n",
       "201912  12.30     0.35      1.12   10.45     3.86\n",
       "202001  14.58     0.35      1.04   10.08     5.92\n",
       "202002  14.98     0.35      1.09    9.95     4.66"
      ]
     },
     "execution_count": 14,
     "metadata": {},
     "output_type": "execute_result"
    }
   ],
   "source": [
    "for c in channel_list:\n",
    "    marg_cac_list = []\n",
    "    for t in time_list:\n",
    "        if result[c][t] == 0:\n",
    "            marg_cac_list.append(0)\n",
    "        else:\n",
    "            marg_cac_value = round(channel_spend[c][t]/result[c][t],2)\n",
    "            marg_cac_list.append(marg_cac_value)\n",
    "    marg_cac[c] = marg_cac_list\n",
    "\n",
    "marg_cac"
   ]
  },
  {
   "cell_type": "code",
   "execution_count": null,
   "metadata": {},
   "outputs": [],
   "source": []
  }
 ],
 "metadata": {
  "kernelspec": {
   "display_name": "Python 3",
   "language": "python",
   "name": "python3"
  },
  "language_info": {
   "codemirror_mode": {
    "name": "ipython",
    "version": 3
   },
   "file_extension": ".py",
   "mimetype": "text/x-python",
   "name": "python",
   "nbconvert_exporter": "python",
   "pygments_lexer": "ipython3",
   "version": "3.8.3"
  },
  "toc": {
   "base_numbering": 1,
   "nav_menu": {},
   "number_sections": true,
   "sideBar": true,
   "skip_h1_title": false,
   "title_cell": "Table of Contents",
   "title_sidebar": "Contents",
   "toc_cell": false,
   "toc_position": {},
   "toc_section_display": true,
   "toc_window_display": false
  },
  "varInspector": {
   "cols": {
    "lenName": 16,
    "lenType": 16,
    "lenVar": 40
   },
   "kernels_config": {
    "python": {
     "delete_cmd_postfix": "",
     "delete_cmd_prefix": "del ",
     "library": "var_list.py",
     "varRefreshCmd": "print(var_dic_list())"
    },
    "r": {
     "delete_cmd_postfix": ") ",
     "delete_cmd_prefix": "rm(",
     "library": "var_list.r",
     "varRefreshCmd": "cat(var_dic_list()) "
    }
   },
   "types_to_exclude": [
    "module",
    "function",
    "builtin_function_or_method",
    "instance",
    "_Feature"
   ],
   "window_display": false
  }
 },
 "nbformat": 4,
 "nbformat_minor": 4
}
